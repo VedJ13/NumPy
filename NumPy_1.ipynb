{
  "nbformat": 4,
  "nbformat_minor": 0,
  "metadata": {
    "colab": {
      "provenance": [],
      "authorship_tag": "ABX9TyMTtDPQjE0AA3B5fgtBR/zX",
      "include_colab_link": true
    },
    "kernelspec": {
      "name": "python3",
      "display_name": "Python 3"
    },
    "language_info": {
      "name": "python"
    }
  },
  "cells": [
    {
      "cell_type": "markdown",
      "metadata": {
        "id": "view-in-github",
        "colab_type": "text"
      },
      "source": [
        "<a href=\"https://colab.research.google.com/github/VedJ13/NumPy/blob/main/NumPy_1.ipynb\" target=\"_parent\"><img src=\"https://colab.research.google.com/assets/colab-badge.svg\" alt=\"Open In Colab\"/></a>"
      ]
    },
    {
      "cell_type": "markdown",
      "source": [
        "## NumPy\n"
      ],
      "metadata": {
        "id": "ZTz9sJjsVkll"
      }
    },
    {
      "cell_type": "code",
      "source": [
        "import numpy as np"
      ],
      "metadata": {
        "id": "I08tcylcTL5G"
      },
      "execution_count": 2,
      "outputs": []
    },
    {
      "cell_type": "code",
      "source": [
        "arr_1d = np.array([1,2,3,4,5])\n",
        "print(\"1d Array : \", arr_1d)"
      ],
      "metadata": {
        "colab": {
          "base_uri": "https://localhost:8080/"
        },
        "id": "GzAhkBZrWCwl",
        "outputId": "c8195910-ad2c-4a48-d53a-066e18fe243d"
      },
      "execution_count": null,
      "outputs": [
        {
          "output_type": "stream",
          "name": "stdout",
          "text": [
            "1d Array :  [1 2 3 4 5]\n"
          ]
        }
      ]
    },
    {
      "cell_type": "code",
      "source": [
        "arr_2d = np.array([[1,2,3], [4,5,6]])\n",
        "print(\"2d Array : \", arr_2d)"
      ],
      "metadata": {
        "colab": {
          "base_uri": "https://localhost:8080/"
        },
        "id": "hehgDVbbWO9O",
        "outputId": "ba526fc7-189f-4b34-c1e9-728a30755c02"
      },
      "execution_count": null,
      "outputs": [
        {
          "output_type": "stream",
          "name": "stdout",
          "text": [
            "2d Array :  [[1 2 3]\n",
            " [4 5 6]]\n"
          ]
        }
      ]
    },
    {
      "cell_type": "markdown",
      "source": [
        "## List vs numpy array\n",
        "\n"
      ],
      "metadata": {
        "id": "wFrwICn7WYsl"
      }
    },
    {
      "cell_type": "code",
      "source": [
        "py_list = [1,2,3] # Replicate the list n times\n",
        "print(\"Python list multiplication : \",py_list * 2)"
      ],
      "metadata": {
        "colab": {
          "base_uri": "https://localhost:8080/"
        },
        "id": "H1h6QhjQYEWU",
        "outputId": "2c153f78-bcf0-4913-ce57-2f0eedb89e7d"
      },
      "execution_count": null,
      "outputs": [
        {
          "output_type": "stream",
          "name": "stdout",
          "text": [
            "Python list multiplication :  [1, 2, 3, 1, 2, 3]\n"
          ]
        }
      ]
    },
    {
      "cell_type": "code",
      "source": [
        "np_array = np.array([1,2,3]) # element wise multiplication\n",
        "print(\"Python numpy multiplication : \",np_array * 2)"
      ],
      "metadata": {
        "colab": {
          "base_uri": "https://localhost:8080/"
        },
        "id": "CopJA4HwYtKE",
        "outputId": "8b11a658-8995-4759-eaa1-06b5a409fa26"
      },
      "execution_count": null,
      "outputs": [
        {
          "output_type": "stream",
          "name": "stdout",
          "text": [
            "Python list multiplication :  [2 4 6]\n"
          ]
        }
      ]
    },
    {
      "cell_type": "code",
      "source": [
        "import time\n",
        "start = time.time()\n",
        "py_list = (i*2 for i in range(1000000))\n",
        "print(\"\\n List operation time : \",time.time() - start)\n",
        "\n",
        "start = time.time()\n",
        "np_array = np.arange(1000000)\n",
        "print(\"\\n NumPy operation time : \",time.time() - start)"
      ],
      "metadata": {
        "colab": {
          "base_uri": "https://localhost:8080/"
        },
        "id": "EVRBOSrdZBxf",
        "outputId": "8f619b55-0f58-431c-95b8-bde8f8ca4873"
      },
      "execution_count": null,
      "outputs": [
        {
          "output_type": "stream",
          "name": "stdout",
          "text": [
            "\n",
            " List operation time :  0.00017571449279785156\n",
            "\n",
            " NumPy operation time :  0.007056713104248047\n"
          ]
        }
      ]
    },
    {
      "cell_type": "markdown",
      "source": [
        "### Creating Array from Scratch"
      ],
      "metadata": {
        "id": "ST44DJndaLln"
      }
    },
    {
      "cell_type": "code",
      "source": [
        "zeros = np.zeros((3,4))\n",
        "print(\"zeros array : \\n\", zeros)\n",
        "\n",
        "ones = np.ones((3,5))\n",
        "print(\"ones array : \\n\", ones)\n",
        "\n",
        "full = np.full((3,3), 7)\n",
        "print(\"full array : \\n\", full)\n",
        "\n",
        "random = (np.random.random((2,3)) * 10).astype(int)\n",
        "print(\"random array : \\n\", random)\n",
        "\n",
        "sequence = np.arange(0, 10, 2)\n",
        "print(\"sequnce array : \\n\", sequence)"
      ],
      "metadata": {
        "colab": {
          "base_uri": "https://localhost:8080/"
        },
        "id": "mQSbZ0ZAbGzZ",
        "outputId": "c8380097-c474-45e3-882b-6bffb4da289d"
      },
      "execution_count": null,
      "outputs": [
        {
          "output_type": "stream",
          "name": "stdout",
          "text": [
            "zeros array : \n",
            " [[0. 0. 0. 0.]\n",
            " [0. 0. 0. 0.]\n",
            " [0. 0. 0. 0.]]\n",
            "ones array : \n",
            " [[1. 1. 1. 1. 1.]\n",
            " [1. 1. 1. 1. 1.]\n",
            " [1. 1. 1. 1. 1.]]\n",
            "full array : \n",
            " [[7 7 7]\n",
            " [7 7 7]\n",
            " [7 7 7]]\n",
            "random array : \n",
            " [[7 3 1]\n",
            " [3 6 4]]\n",
            "sequnce array : \n",
            " [0 2 4 6 8]\n"
          ]
        }
      ]
    },
    {
      "cell_type": "markdown",
      "source": [
        "### Vector, Matrix and Tensor"
      ],
      "metadata": {
        "id": "gypOCXWdbQCe"
      }
    },
    {
      "cell_type": "code",
      "source": [
        "vector = np.array([1, 2, 3, 4, 5])\n",
        "print(\"vector : \", vector)\n",
        "\n",
        "matrix = np.array([[1, 2, 3], [4, 5, 6]])\n",
        "print(\"matrix : \", matrix)\n",
        "\n",
        "tensor = np.array(([[[1, 2], [3, 4]],\n",
        "                    [[5, 6], [7, 8]]]))\n",
        "print(\"tensor array : \", tensor)"
      ],
      "metadata": {
        "colab": {
          "base_uri": "https://localhost:8080/"
        },
        "id": "lU-jwVxZgaLv",
        "outputId": "f053881d-d94c-474c-c67f-726ce8c87a27"
      },
      "execution_count": null,
      "outputs": [
        {
          "output_type": "stream",
          "name": "stdout",
          "text": [
            "vector :  [1 2 3 4 5]\n",
            "matrix :  [[1 2 3]\n",
            " [4 5 6]]\n",
            "tensor array :  [[[1 2]\n",
            "  [3 4]]\n",
            "\n",
            " [[5 6]\n",
            "  [7 8]]]\n"
          ]
        }
      ]
    },
    {
      "cell_type": "markdown",
      "source": [
        "### Array Properties"
      ],
      "metadata": {
        "id": "ekjJLoh9hpa3"
      }
    },
    {
      "cell_type": "code",
      "source": [
        "arr = np.array([[1, 2, 3],\n",
        "               [4, 5, 6]])\n",
        "print(\"Shape\", arr.shape)\n",
        "print(\"Dimension\", arr.ndim)\n",
        "print(\"Size\", arr.size)\n",
        "print(\"DType\", arr.dtype)"
      ],
      "metadata": {
        "colab": {
          "base_uri": "https://localhost:8080/"
        },
        "id": "pq6Din5PinPZ",
        "outputId": "510d8787-67df-4770-c6c2-035b1cf64c58"
      },
      "execution_count": null,
      "outputs": [
        {
          "output_type": "stream",
          "name": "stdout",
          "text": [
            "Shape (2, 3)\n",
            "Dimension 2\n",
            "Size 6\n",
            "DType int64\n"
          ]
        }
      ]
    },
    {
      "cell_type": "markdown",
      "source": [
        "### Array Reshaping"
      ],
      "metadata": {
        "id": "C3pmG9NFjPfv"
      }
    },
    {
      "cell_type": "code",
      "source": [
        "arr = np.arange(12)\n",
        "print(\"Original array : \", arr)\n",
        "\n",
        "reshaped = arr.reshape([3,4])\n",
        "print(\"\\n Reshaped array \", reshaped)\n",
        "\n",
        "# flattened returns copy\n",
        "flattened = reshaped.flatten()\n",
        "print(\"\\n Flattened array \", flattened)\n",
        "\n",
        "# ravel {returns view, instead of copy}\n",
        "raveled = reshaped.ravel()\n",
        "print(\"\\n raveled array \", raveled)\n",
        "\n",
        "# Transpose\n",
        "transpose = reshaped.T\n",
        "print(\"\\n Transposed array \", transpose)"
      ],
      "metadata": {
        "colab": {
          "base_uri": "https://localhost:8080/"
        },
        "id": "avPOHB9OSGMH",
        "outputId": "9329bf5c-96e9-4c8a-c48a-90943194ee5d"
      },
      "execution_count": 7,
      "outputs": [
        {
          "output_type": "stream",
          "name": "stdout",
          "text": [
            "Original array :  [ 0  1  2  3  4  5  6  7  8  9 10 11]\n",
            "\n",
            " Reshaped array  [[ 0  1  2  3]\n",
            " [ 4  5  6  7]\n",
            " [ 8  9 10 11]]\n",
            "\n",
            " Flattened array  [ 0  1  2  3  4  5  6  7  8  9 10 11]\n",
            "\n",
            " raveled array  [ 0  1  2  3  4  5  6  7  8  9 10 11]\n",
            "\n",
            " Transposed array  [[ 0  4  8]\n",
            " [ 1  5  9]\n",
            " [ 2  6 10]\n",
            " [ 3  7 11]]\n"
          ]
        }
      ]
    },
    {
      "cell_type": "code",
      "source": [],
      "metadata": {
        "id": "oO2jnE_wSvbK"
      },
      "execution_count": null,
      "outputs": []
    }
  ]
}