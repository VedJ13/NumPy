{
  "nbformat": 4,
  "nbformat_minor": 0,
  "metadata": {
    "colab": {
      "provenance": [],
      "authorship_tag": "ABX9TyNAa7Kivo77yyopoZE4fr2G",
      "include_colab_link": true
    },
    "kernelspec": {
      "name": "python3",
      "display_name": "Python 3"
    },
    "language_info": {
      "name": "python"
    }
  },
  "cells": [
    {
      "cell_type": "markdown",
      "metadata": {
        "id": "view-in-github",
        "colab_type": "text"
      },
      "source": [
        "<a href=\"https://colab.research.google.com/github/VedJ13/NumPy/blob/main/NumPy_2.ipynb\" target=\"_parent\"><img src=\"https://colab.research.google.com/assets/colab-badge.svg\" alt=\"Open In Colab\"/></a>"
      ]
    },
    {
      "cell_type": "markdown",
      "source": [
        "# NumPy Array Operations"
      ],
      "metadata": {
        "id": "WCTSBdoeVWDs"
      }
    },
    {
      "cell_type": "code",
      "source": [
        "import numpy as np"
      ],
      "metadata": {
        "id": "tJReaDLlVoyJ"
      },
      "execution_count": 1,
      "outputs": []
    },
    {
      "cell_type": "code",
      "source": [
        "arr = np.arange(11)\n",
        "print(\"Basic slicing\",arr[2:7])\n",
        "print(\"With Step: \", arr[1:8:2])\n",
        "print(\"Negative Indexing : \", arr[-3])"
      ],
      "metadata": {
        "colab": {
          "base_uri": "https://localhost:8080/"
        },
        "id": "1DXjzI32Vrs2",
        "outputId": "b08baac3-2001-4088-8064-5ab98a52ea98"
      },
      "execution_count": 3,
      "outputs": [
        {
          "output_type": "stream",
          "name": "stdout",
          "text": [
            "Basic slicing [2 3 4 5 6]\n",
            "With Step:  [1 3 5 7]\n"
          ]
        }
      ]
    },
    {
      "cell_type": "code",
      "source": [
        "arr = np.array([[1,2,3],\n",
        "                [4,5,6],\n",
        "                [7,8,9]])\n",
        "print(\"Specific Element :\", arr[2,0])\n",
        "print(\"Entire row :\", arr[0])\n",
        "print(\"Entire column :\", arr[:, 2])"
      ],
      "metadata": {
        "colab": {
          "base_uri": "https://localhost:8080/"
        },
        "id": "T9qZY8DNV8Fg",
        "outputId": "edb49430-7756-46a7-f345-145dd1a4c646"
      },
      "execution_count": 5,
      "outputs": [
        {
          "output_type": "stream",
          "name": "stdout",
          "text": [
            "Specific Element : 7\n",
            "Entire row : [1 2 3]\n",
            "Entire column : [3 6 9]\n"
          ]
        }
      ]
    },
    {
      "cell_type": "markdown",
      "source": [
        "### Sorting"
      ],
      "metadata": {
        "id": "r0wJCs8ej8oa"
      }
    },
    {
      "cell_type": "code",
      "source": [
        "unsorted = np.array([3,5,3,5,6,21,2,1])\n",
        "print(\"Sorted array \", np.sort(unsorted))\n",
        "\n",
        "arr_2d_unsorted = np.array([[5,2], [3,5], [8,4]])\n",
        "print(\"Sorted 2D array by column \", np.sort(arr_2d_unsorted, axis = 0))\n",
        "print(\"Sorted 2D array by row \", np.sort(arr_2d_unsorted, axis = 1))"
      ],
      "metadata": {
        "colab": {
          "base_uri": "https://localhost:8080/"
        },
        "id": "GVmsUbTOkOqL",
        "outputId": "93676746-b261-42a8-bddd-548e3c69f64f"
      },
      "execution_count": 10,
      "outputs": [
        {
          "output_type": "stream",
          "name": "stdout",
          "text": [
            "Sorted array  [ 1  2  3  3  5  5  6 21]\n",
            "Sorted 2D array by column  [[3 2]\n",
            " [5 4]\n",
            " [8 5]]\n",
            "Sorted 2D array by row  [[2 5]\n",
            " [3 5]\n",
            " [4 8]]\n"
          ]
        }
      ]
    },
    {
      "cell_type": "markdown",
      "source": [
        "## Filter\n"
      ],
      "metadata": {
        "id": "SvWlzHVJkY5w"
      }
    },
    {
      "cell_type": "code",
      "source": [
        "numbers = np.array([1,2,3,4,5,6,7,8,9,10])\n",
        "even_number = numbers[numbers % 2 == 0]\n",
        "print(\"Even no. \", even_number)"
      ],
      "metadata": {
        "colab": {
          "base_uri": "https://localhost:8080/"
        },
        "id": "CCUsgJv_nLW9",
        "outputId": "5874ccd1-ef6c-4b4f-ed8d-668596036534"
      },
      "execution_count": 12,
      "outputs": [
        {
          "output_type": "stream",
          "name": "stdout",
          "text": [
            "Even no.  [ 2  4  6  8 10]\n"
          ]
        }
      ]
    },
    {
      "cell_type": "markdown",
      "source": [
        "## Filter with Mask"
      ],
      "metadata": {
        "id": "Dk7Gtkn_nfOT"
      }
    },
    {
      "cell_type": "code",
      "source": [
        "mask = numbers < 7\n",
        "print(\"Numbers less than 7 \", numbers[mask])"
      ],
      "metadata": {
        "colab": {
          "base_uri": "https://localhost:8080/"
        },
        "id": "Y4xm2hD9npII",
        "outputId": "4667c238-ad4f-46f1-857f-a74e877f3143"
      },
      "execution_count": 14,
      "outputs": [
        {
          "output_type": "stream",
          "name": "stdout",
          "text": [
            "Numbers less than 7  [1 2 3 4 5 6]\n"
          ]
        }
      ]
    },
    {
      "cell_type": "markdown",
      "source": [
        "## Fancy indexing vs. np.where()"
      ],
      "metadata": {
        "id": "JY2ApPqmn1oQ"
      }
    },
    {
      "cell_type": "code",
      "source": [
        "indices = [0, 2, 4]\n",
        "print(numbers[indices])\n",
        "\n",
        "where_result = np.where(numbers > 5)\n",
        "print(where_result) # returns array with indices for which the condition is true.\n",
        "print(\"NP where \", numbers[where_result])"
      ],
      "metadata": {
        "colab": {
          "base_uri": "https://localhost:8080/"
        },
        "id": "yOTdYwZVn_bQ",
        "outputId": "fee1e956-669d-43a5-af7a-693ecdd81ec8"
      },
      "execution_count": 15,
      "outputs": [
        {
          "output_type": "stream",
          "name": "stdout",
          "text": [
            "[1 3 5]\n",
            "(array([5, 6, 7, 8, 9]),)\n",
            "NP where  [ 6  7  8  9 10]\n"
          ]
        }
      ]
    },
    {
      "cell_type": "code",
      "source": [
        "condition_array = np.where(numbers > 5, numbers * 2, numbers)\n",
        "# condition_array = np.where(numbers > 5, \"true\", \"false\")\n",
        "print(condition_array)"
      ],
      "metadata": {
        "colab": {
          "base_uri": "https://localhost:8080/"
        },
        "id": "_z0l9eneoYx3",
        "outputId": "6bab2327-af79-43de-99ae-48d30a7c4b67"
      },
      "execution_count": 16,
      "outputs": [
        {
          "output_type": "stream",
          "name": "stdout",
          "text": [
            "[ 1  2  3  4  5 12 14 16 18 20]\n"
          ]
        }
      ]
    },
    {
      "cell_type": "markdown",
      "source": [
        "## Adding and Removing Data"
      ],
      "metadata": {
        "id": "diEeEr1LqT8G"
      }
    },
    {
      "cell_type": "code",
      "source": [
        "arr1 = np.array([1,2,3])\n",
        "arr2 = np.array([4,5,6])\n",
        "\n",
        "combined = np.concatenate((arr1,arr2))\n",
        "print(combined)"
      ],
      "metadata": {
        "colab": {
          "base_uri": "https://localhost:8080/"
        },
        "id": "KaoItzKIqb0E",
        "outputId": "8df6005f-9270-4989-cde6-cd4c5b24d7ad"
      },
      "execution_count": 17,
      "outputs": [
        {
          "output_type": "stream",
          "name": "stdout",
          "text": [
            "[1 2 3 4 5 6]\n"
          ]
        }
      ]
    },
    {
      "cell_type": "markdown",
      "source": [
        "## Array Compatibility"
      ],
      "metadata": {
        "id": "QpI7RgzCrH7r"
      }
    },
    {
      "cell_type": "code",
      "source": [
        "a = np.array([1,2,3])\n",
        "b = np.array([4,5,6])\n",
        "c = np.array([7,8,9])\n",
        "print(\"Compatibility Shapes : \", a.shape == b.shape)"
      ],
      "metadata": {
        "colab": {
          "base_uri": "https://localhost:8080/"
        },
        "id": "ZgW3Fl3rrKjq",
        "outputId": "d9e4f4bc-64a4-4832-b178-455fc52aff32"
      },
      "execution_count": 18,
      "outputs": [
        {
          "output_type": "stream",
          "name": "stdout",
          "text": [
            "Compatibility Shapes :  True\n"
          ]
        }
      ]
    },
    {
      "cell_type": "code",
      "source": [
        "original = np.array([[1,2], [3,4]])\n",
        "new_row = np.array([[5,6]])\n",
        "\n",
        "with_new_row = np.vstack((original,new_row))\n",
        "print(original)\n",
        "print(with_new_row)\n",
        "\n",
        "new_col = np.array([[7], [9]])\n",
        "with_new_column = np.hstack((original,new_col))\n",
        "print(\"With new column \",with_new_column)"
      ],
      "metadata": {
        "colab": {
          "base_uri": "https://localhost:8080/"
        },
        "id": "kby12pBmra7Y",
        "outputId": "9b7e0931-bafa-46e7-cbc2-ff8487dc201d"
      },
      "execution_count": 22,
      "outputs": [
        {
          "output_type": "stream",
          "name": "stdout",
          "text": [
            "[[1 2]\n",
            " [3 4]]\n",
            "[[1 2]\n",
            " [3 4]\n",
            " [5 6]]\n",
            "With new column  [[1 2 7]\n",
            " [3 4 9]]\n"
          ]
        }
      ]
    },
    {
      "cell_type": "code",
      "source": [
        "arr = np.array([1,2,3,4])\n",
        "deleted = np.delete(arr, 2)\n",
        "print(\"Array after deltetion : \", deleted)"
      ],
      "metadata": {
        "colab": {
          "base_uri": "https://localhost:8080/"
        },
        "id": "6y68cDC9sIBp",
        "outputId": "e66e64fd-68d4-48da-89e2-c054506f7da5"
      },
      "execution_count": 23,
      "outputs": [
        {
          "output_type": "stream",
          "name": "stdout",
          "text": [
            "Array after deltetion :  [1 2 4]\n"
          ]
        }
      ]
    },
    {
      "cell_type": "code",
      "source": [],
      "metadata": {
        "id": "p1pO3RNKssz-"
      },
      "execution_count": null,
      "outputs": []
    }
  ]
}